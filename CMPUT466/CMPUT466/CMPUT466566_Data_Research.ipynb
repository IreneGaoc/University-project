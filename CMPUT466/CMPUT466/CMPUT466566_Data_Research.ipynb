{
 "cells": [
  {
   "cell_type": "code",
   "execution_count": 44,
   "metadata": {},
   "outputs": [],
   "source": [
    "# Data Research"
   ]
  },
  {
   "cell_type": "code",
   "execution_count": 50,
   "metadata": {},
   "outputs": [
    {
     "name": "stdout",
     "output_type": "stream",
     "text": [
      "Data loaded\n"
     ]
    }
   ],
   "source": [
    "import pandas as pd\n",
    "import matplotlib.pyplot as plt\n",
    "\n",
    "DIR = './organized_dataset/'\n",
    "\n",
    "SHORT_TERM = 6\n",
    "\n",
    "df = pd.read_csv(DIR+'feature_engineered_full.csv',header=0)\n",
    "\n",
    "print('Data loaded')"
   ]
  },
  {
   "cell_type": "markdown",
   "metadata": {},
   "source": [
    "## Number of Records"
   ]
  },
  {
   "cell_type": "code",
   "execution_count": null,
   "metadata": {},
   "outputs": [],
   "source": [
    "print('# of records: ', df.shape[0])\n",
    "print('# of default records: ', df[df['STATUS']==1].shape[0])\n",
    "\n",
    "\"\"\" Result (Full)\n",
    "# of records:  1266792\n",
    "# of default records:  39012\n",
    "\"\"\""
   ]
  },
  {
   "cell_type": "markdown",
   "metadata": {},
   "source": [
    "## Distribution of sequence length(Code)"
   ]
  },
  {
   "cell_type": "code",
   "execution_count": null,
   "metadata": {
    "hiddenCell": true
   },
   "outputs": [],
   "source": [
    "cid_set = set(df.loc[:,'CID'])\n",
    "print('# of CID: ',len(cid_set))\n",
    "\n",
    "temp = df.groupby('CID').count().iloc[:,:2]\n",
    "temp.rename(columns={temp.columns[0]:'length'}, inplace=True)\n",
    "# print(temp)\n",
    "c = temp.groupby('length').count().iloc[:,0]\n",
    "print(c)\n",
    "print('SUM: ',c.sum())\n",
    "\n",
    "print('Done')\n",
    "\n",
    "\"\"\" Result (Full)\n",
    "length  count\n",
    "1       162\n",
    "2       177\n",
    "3       185\n",
    "4       206\n",
    "5       200\n",
    "6       192\n",
    "7       234\n",
    "8       214\n",
    "9       191\n",
    "10      244\n",
    "11      260\n",
    "12      300\n",
    "13      264\n",
    "14      288\n",
    "15      235\n",
    "16      247\n",
    "17      278\n",
    "18      269\n",
    "19      265\n",
    "20      296\n",
    "21      312\n",
    "22      301\n",
    "23      328\n",
    "24      965\n",
    "25      733\n",
    "26      659\n",
    "27      681\n",
    "28      874\n",
    "29      889\n",
    "30      987\n",
    "31      999\n",
    "32     1045\n",
    "33     1110\n",
    "34     1074\n",
    "35    25662\n",
    "Name: DATE, dtype: int64\n",
    "SUM:  41326\n",
    "\"\"\""
   ]
  },
  {
   "cell_type": "markdown",
   "metadata": {},
   "source": [
    "## Num of default records per one customer"
   ]
  },
  {
   "cell_type": "code",
   "execution_count": null,
   "metadata": {
    "hiddenCell": true
   },
   "outputs": [],
   "source": [
    "cid_set = set(df[df['STATUS']==1].loc[:,'CID'])\n",
    "print('# of CID with at least one default record: ',len(cid_set))\n",
    "\n",
    "temp = df[df['STATUS']==1].groupby('CID').count().iloc[:,:]\n",
    "temp.rename(columns={temp.columns[0]:'num of default records'}, inplace=True)\n",
    "# print(temp)\n",
    "c = temp.groupby('num of default records').count().iloc[:,0]\n",
    "print(c)\n",
    "print('SUM: ',c.sum())\n",
    "print('Done')\n",
    "\n",
    "\"\"\" Result (Full)\n",
    "# of CID with at least one default record:  7468\n",
    "# of default records, num of custmers\n",
    "1     2192\n",
    "2     1119\n",
    "3      745\n",
    "4      527\n",
    "5      438\n",
    "6      324\n",
    "7      309\n",
    "8      279\n",
    "9      225\n",
    "10     190\n",
    "11     170\n",
    "12     143\n",
    "13     124\n",
    "14     110\n",
    "15      84\n",
    "16      89\n",
    "17      72\n",
    "18      49\n",
    "19      56\n",
    "20      47\n",
    "21      39\n",
    "22      27\n",
    "23      25\n",
    "24      18\n",
    "25      17\n",
    "26      16\n",
    "27       8\n",
    "28      12\n",
    "29       1\n",
    "30       4\n",
    "31       4\n",
    "33       3\n",
    "34       2\n",
    "Name: DATE, dtype: int64\n",
    "SUM:  7468\n",
    "Done\n",
    "\"\"\""
   ]
  },
  {
   "cell_type": "markdown",
   "metadata": {},
   "source": [
    "## How many default in short-term"
   ]
  },
  {
   "cell_type": "code",
   "execution_count": null,
   "metadata": {},
   "outputs": [],
   "source": [
    "cid_set = set(df.loc[:,'CID'])\n",
    "print('# of CID: ',len(cid_set))\n",
    "\n",
    "# get length of each CID\n",
    "temp = df.groupby('CID').count().loc[:,:]\n",
    "temp.rename(columns={temp.columns[0]:'length'}, inplace=True)\n",
    "temp = temp[temp['length']<SHORT_TERM].iloc[:,:2]\n",
    "print('# of short-term CID: ',temp.shape[0])\n",
    "\n",
    "short_cid_list = list(temp.index.values)\n",
    "\n",
    "count_default = 0\n",
    "count_record = 0\n",
    "for cid in short_cid_list:\n",
    "  temp = df[df['CID']==cid]\n",
    "  temp2 = temp[temp['STATUS']==1]\n",
    "  count_record += temp.shape[0]\n",
    "  count_default += temp2.shape[0]\n",
    "\n",
    "print('# of short-term records: ',count_record)\n",
    "print('# of default happened in short-term: ',count_default)\n",
    "print('Default Rate (short-term): ',count_default/count_record)\n",
    "print('Done')\n",
    "\n",
    "\"\"\" Result (Full)\n",
    "# of CID:  41326\n",
    "# of short-term CID:  930\n",
    "# of short-term records:  2895\n",
    "# of default happened in short-term:  106\n",
    "Default Rate (short-term):  0.036614853195164075\n",
    "\"\"\""
   ]
  },
  {
   "cell_type": "markdown",
   "metadata": {},
   "source": [
    "## How many default in long-term"
   ]
  },
  {
   "cell_type": "code",
   "execution_count": null,
   "metadata": {},
   "outputs": [],
   "source": [
    "cid_set = set(df.loc[:,'CID'])\n",
    "print('# of CID: ',len(cid_set))\n",
    "\n",
    "# get length of each CID\n",
    "temp = df.groupby('CID').count().loc[:,:]\n",
    "temp.rename(columns={temp.columns[0]:'length'}, inplace=True)\n",
    "\n",
    "temp = temp[temp['length'] >= SHORT_TERM].iloc[:,:2]\n",
    "print('# of long-term CID: ',temp.shape[0])\n",
    "\n",
    "short_cid_list = list(temp.index.values)\n",
    "\n",
    "count_default = 0\n",
    "count_record = 0\n",
    "for cid in short_cid_list:\n",
    "  temp = df[df['CID']==cid]\n",
    "  temp2 = temp[temp['STATUS']==1]\n",
    "  count_record += temp.shape[0]\n",
    "  count_default += temp2.shape[0]\n",
    "\n",
    "print('# of long-term records: ',count_record)\n",
    "print('# of default happened in long-term: ',count_default)\n",
    "print('Default Rate (long-term): ',count_default/count_record)\n",
    "print('Done')\n",
    "\n",
    "\"\"\" Result (Full)\n",
    "# of CID:  41326\n",
    "# of long-term CID:  40396\n",
    "# of long-term records:  1263897\n",
    "# of default happened in long-term:  38906\n",
    "Default Rate (long-term):  0.030782571681078442\n",
    "\"\"\""
   ]
  },
  {
   "cell_type": "markdown",
   "metadata": {},
   "source": [
    "## Default Rate distribution"
   ]
  },
  {
   "cell_type": "code",
   "execution_count": 55,
   "metadata": {},
   "outputs": [
    {
     "name": "stdout",
     "output_type": "stream",
     "text": [
      "# of CID:  41326\n",
      "# of long-term CID:  162\n",
      "# of long-term CID:  177\n",
      "# of long-term CID:  185\n",
      "# of long-term CID:  206\n",
      "# of long-term CID:  200\n",
      "# of long-term CID:  192\n",
      "# of long-term CID:  234\n",
      "# of long-term CID:  214\n",
      "# of long-term CID:  191\n",
      "# of long-term CID:  244\n",
      "# of long-term CID:  260\n",
      "# of long-term CID:  300\n",
      "# of long-term CID:  264\n",
      "# of long-term CID:  288\n",
      "# of long-term CID:  235\n",
      "# of long-term CID:  247\n",
      "# of long-term CID:  278\n",
      "# of long-term CID:  269\n",
      "# of long-term CID:  265\n",
      "# of long-term CID:  296\n",
      "# of long-term CID:  312\n",
      "# of long-term CID:  301\n",
      "# of long-term CID:  328\n",
      "# of long-term CID:  965\n",
      "# of long-term CID:  733\n",
      "# of long-term CID:  659\n",
      "# of long-term CID:  681\n",
      "# of long-term CID:  874\n",
      "# of long-term CID:  889\n",
      "# of long-term CID:  987\n",
      "# of long-term CID:  999\n",
      "# of long-term CID:  1045\n",
      "# of long-term CID:  1110\n",
      "# of long-term CID:  1074\n",
      "# of long-term CID:  25662\n"
     ]
    },
    {
     "name": "stderr",
     "output_type": "stream",
     "text": [
      "/usr/local/envs/py3env/lib/python3.5/site-packages/matplotlib/font_manager.py:1320: UserWarning: findfont: Font family ['sans-serif'] not found. Falling back to DejaVu Sans\n",
      "  (prop.get_family(), self.defaultFamily[fontext]))\n"
     ]
    },
    {
     "data": {
      "image/png": "[encoded data removed]",
      "text/plain": [
       "<matplotlib.figure.Figure at 0x7fe292b312e8>"
      ]
     },
     "metadata": {},
     "output_type": "display_data"
    }
   ],
   "source": [
    "cid_set = set(df.loc[:,'CID'])\n",
    "print('# of CID: ',len(cid_set))\n",
    "\n",
    "# get length of each CID\n",
    "length_df = df.groupby('CID').count().loc[:,:]\n",
    "length_df.rename(columns={length_df.columns[0]:'length'}, inplace=True)\n",
    "\n",
    "num_of_i_length_list = [0]\n",
    "rate_of_i_length_list = [0]\n",
    "\n",
    "for i in range(1,36):\n",
    "  temp = length_df[length_df['length'] == i].iloc[:,:2]\n",
    "  num_of_i_length_list.append(temp.shape[0])\n",
    "  print('# of long-term CID: ',temp.shape[0])\n",
    "  \n",
    "  short_cid_list = list(temp.index.values)\n",
    "\n",
    "  count_default = 0\n",
    "  count_record = 0\n",
    "  for cid in short_cid_list:\n",
    "    temp = df[df['CID']==cid]\n",
    "    temp2 = temp[temp['STATUS']==1]\n",
    "    count_record += temp.shape[0]\n",
    "    count_default += temp2.shape[0]\n",
    "\n",
    "  rate_of_i_length_list.append(count_default/count_record)\n",
    "\n",
    "plt.plot(rate_of_i_length_list)\n",
    "plt.ylabel('Default Rate')\n",
    "plt.xlabel('Length of Contract')\n",
    "plt.show()"
   ]
  },
  {
   "cell_type": "markdown",
   "metadata": {},
   "source": [
    "## ANN"
   ]
  },
  {
   "cell_type": "code",
   "execution_count": null,
   "metadata": {},
   "outputs": [
    {
     "name": "stdout",
     "output_type": "stream",
     "text": [
      "/usr/local/envs/py3env/lib/python3.5/site-packages/h5py/__init__.py:36: FutureWarning: Conversion of the second argument of issubdtype from `float` to `np.floating` is deprecated. In future, it will be treated as `np.float64 == np.dtype(float).type`.\n",
      "  from ._conv import register_converters as _register_converters\n",
      "2019-03-31 18:33:17.479406: I tensorflow/core/platform/cpu_feature_guard.cc:140] Your CPU supports instructions that this TensorFlow binary was not compiled to use: AVX2 AVX512F FMA\n"
     ]
    }
   ],
   "source": [
    "!python3 -u ./learn/learn_ann.py full > ./learn/ann_full_result.out"
   ]
  }
 ],
 "metadata": {
  "kernelspec": {
   "display_name": "Python 3",
   "language": "python",
   "name": "python3"
  },
  "language_info": {
   "codemirror_mode": {
    "name": "ipython",
    "version": 3
   },
   "file_extension": ".py",
   "mimetype": "text/x-python",
   "name": "python",
   "nbconvert_exporter": "python",
   "pygments_lexer": "ipython3",
   "version": "3.5.6"
  }
 },
 "nbformat": 4,
 "nbformat_minor": 2
}
