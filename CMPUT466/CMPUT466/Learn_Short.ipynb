{
 "cells": [
  {
   "cell_type": "markdown",
   "metadata": {},
   "source": [
    "# Short-Term Customer Learning"
   ]
  },
  {
   "cell_type": "code",
   "execution_count": 13,
   "metadata": {},
   "outputs": [
    {
     "name": "stdout",
     "output_type": "stream",
     "text": [
      "Data loading Done\n"
     ]
    }
   ],
   "source": [
    "import sys\n",
    "sys.path.append('./learn')\n",
    "\n",
    "from metric_auc import auc\n",
    "from learn_ann import get_learner_params_all\n",
    "from tensorflow import keras\n",
    "import pandas as pd\n",
    "import numpy as np\n",
    "from sklearn.model_selection import StratifiedKFold\n",
    "\n",
    "\n",
    "DIR = './organized_dataset/'\n",
    "\n",
    "seed = 7\n",
    "np.random.seed(seed)\n",
    "\n",
    "df = pd.read_csv(DIR+'feature_engineered_test.csv',header=0)\n",
    "\n",
    "print('Data loading Done')"
   ]
  },
  {
   "cell_type": "code",
   "execution_count": 8,
   "metadata": {},
   "outputs": [
    {
     "name": "stdout",
     "output_type": "stream",
     "text": [
      "{0: 1, 1: 40.0}\n"
     ]
    }
   ],
   "source": [
    "class_weights = {0: 1,1: 40.}\n",
    "print(class_weights)"
   ]
  },
  {
   "cell_type": "code",
   "execution_count": 14,
   "metadata": {},
   "outputs": [
    {
     "name": "stdout",
     "output_type": "stream",
     "text": [
      "Term:  6\n",
      "# of short-term CID:  47\n",
      "dataset:  (131, 101)\n"
     ]
    }
   ],
   "source": [
    "SHORT_TERM = 6\n",
    "\n",
    "print('Term: ',SHORT_TERM)\n",
    "\n",
    "temp = df.groupby('CID').count()\n",
    "temp.rename(columns={temp.columns[0]:'length'}, inplace=True)\n",
    "\n",
    "# get as Series of CID with contract-length less than SHORT_TERM\n",
    "temp = temp.loc[temp['length'] < SHORT_TERM].iloc[:,0]\n",
    "print('# of short-term CID: ',temp.shape[0])\n",
    "\n",
    "short_cid_set = set(temp.index.tolist())\n",
    "\n",
    "short_df = pd.DataFrame(columns=df.columns)\n",
    "\n",
    "for cid in short_cid_set:\n",
    "    temp = df.loc[df['CID'] == cid,:]\n",
    "    \n",
    "#     df.append is not inplace\n",
    "    short_df = short_df.append(temp, ignore_index=True)\n",
    "\n",
    "print('dataset: ',short_df.shape)"
   ]
  },
  {
   "cell_type": "markdown",
   "metadata": {},
   "source": [
    "## ANN"
   ]
  },
  {
   "cell_type": "code",
   "execution_count": 15,
   "metadata": {},
   "outputs": [
    {
     "name": "stdout",
     "output_type": "stream",
     "text": [
      "(131, 97)\n",
      "(131,)\n",
      "[0 0 0 0 0 0 0 0 0 0 0 0 0 0 1 1 1 1 0 0 0 0 0 0 0 0 0 0 0 0 0 0 0 0 0 0 0\n",
      " 0 0 0 0 0 0 0 0 0 0 0 0 0 0 0 0 0 0 0 0 0 0 0 0 0 0 0 0 0 0 0 0 0 0 0 0 0\n",
      " 0 0 0 0 0 0 0 0 0 0 0 0 0 0 0 0 0 0 0 0 0 0 0 0 0 0 0 0 0 0 0 0 0 0 0 0 0\n",
      " 1 0 0 0 0 0 0 0 0 0 0 1 0 0 0 0 0 0 0 0]\n"
     ]
    },
    {
     "name": "stderr",
     "output_type": "stream",
     "text": [
      "/usr/local/envs/py3env/lib/python3.5/site-packages/sklearn/model_selection/_split.py:605: Warning: The least populated class in y has only 6 members, which is too few. The minimum number of members in any class cannot be less than n_splits=10.\n",
      "  % (min_groups, self.n_splits)), Warning)\n"
     ]
    },
    {
     "name": "stdout",
     "output_type": "stream",
     "text": [
      "13/13 [==============================] - 1s 39ms/step\n",
      "auc: 0.8783\n",
      "14/14 [==============================] - 1s 37ms/step\n",
      "auc: 0.8796\n",
      "14/14 [==============================] - 1s 40ms/step\n",
      "auc: 0.6239\n",
      "14/14 [==============================] - 1s 44ms/step\n",
      "auc: 0.7649\n",
      "14/14 [==============================] - 1s 47ms/step\n",
      "auc: 0.8975\n",
      "12/12 [==============================] - 1s 58ms/step\n",
      "auc: 0.9358\n",
      "12/12 [==============================] - 1s 61ms/step\n",
      "auc: 0.8144\n",
      "13/13 [==============================] - 1s 58ms/step\n",
      "auc: 0.5000\n",
      "12/12 [==============================] - 1s 68ms/step\n",
      "auc: 0.8869\n",
      "13/13 [==============================] - 1s 64ms/step\n",
      "auc: 0.9556\n",
      "0.8137 (+/- 0.1388)\n",
      "Done\n"
     ]
    }
   ],
   "source": [
    "# https://machinelearningmastery.com/evaluate-performance-deep-learning-models-keras/\n",
    "\n",
    "X = short_df.iloc[:,3:-1].values\n",
    "y = short_df.iloc[:,-1].values.astype(int)\n",
    "\n",
    "M = X.shape[1]\n",
    "print(X.shape)\n",
    "print(y.shape)\n",
    "\n",
    "print(y)\n",
    "\n",
    "# define 10-fold cross validation test harness\n",
    "kfold = StratifiedKFold(n_splits=10, shuffle=True, random_state=seed)\n",
    "cvscores = []\n",
    "\n",
    "for train, test in kfold.split(X,y):\n",
    "    model = keras.Sequential()\n",
    "    model.add(keras.layers.BatchNormalization())\n",
    "    model.add(keras.layers.Dense(M, input_dim=M, kernel_initializer='normal', activation='sigmoid'))\n",
    "    model.add(keras.layers.Dense(M//2, kernel_initializer='normal', activation='relu'))\n",
    "    model.add(keras.layers.Dense(1, kernel_initializer='normal', activation='sigmoid'))\n",
    "\n",
    "    model.compile(optimizer='adam', loss='binary_crossentropy', metrics=[auc])\n",
    "\n",
    "    model.fit(X[train], y[train], epochs=100, class_weight=class_weights, verbose=0)\n",
    "    scores = model.evaluate(X[test],y[test])\n",
    "    print(\"%s: %.5\" % (model.metrics_names[1], scores[1]))\n",
    "    cvscores.append(scores[1])\n",
    "    \n",
    "print(\"%.5f (+/- %.5f)\" % (np.mean(cvscores), np.std(cvscores)))\n",
    "\n",
    "print('Done')\n"
   ]
  }
 ],
 "metadata": {
  "kernelspec": {
   "display_name": "Python 3",
   "language": "python",
   "name": "python3"
  },
  "language_info": {
   "codemirror_mode": {
    "name": "ipython",
    "version": 3
   },
   "file_extension": ".py",
   "mimetype": "text/x-python",
   "name": "python",
   "nbconvert_exporter": "python",
   "pygments_lexer": "ipython3",
   "version": "3.5.6"
  }
 },
 "nbformat": 4,
 "nbformat_minor": 2
}
